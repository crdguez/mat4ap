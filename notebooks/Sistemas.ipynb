{
 "cells": [
  {
   "cell_type": "code",
   "execution_count": 2,
   "metadata": {},
   "outputs": [
    {
     "name": "stdout",
     "output_type": "stream",
     "text": [
      "IPython console for SymPy 1.4 (Python 3.6.8-64-bit) (ground types: gmpy)\n",
      "\n",
      "These commands were executed:\n",
      ">>> from __future__ import division\n",
      ">>> from sympy import *\n",
      ">>> x, y, z, t = symbols('x y z t')\n",
      ">>> k, m, n = symbols('k m n', integer=True)\n",
      ">>> f, g, h = symbols('f g h', cls=Function)\n",
      ">>> init_printing()\n",
      "\n",
      "Documentation can be found at https://docs.sympy.org/1.4/\n",
      "\n"
     ]
    }
   ],
   "source": [
    "from sympy import init_session\n",
    "init_session()\n",
    "\n",
    "a, b, c, d = symbols('a b c d', real = True)\n",
    "\n",
    "def sistema_a_latex(sist) :\n",
    "    \"\"\"\n",
    "    Convierte un sistema Sympy a código LaTeX\n",
    "    \"\"\"\n",
    "    sist_latex = r\"$\\left\\{ \\begin{matrix}\"\n",
    "    for e in sist:\n",
    "        sist_latex += latex(e)+r\" \\\\ \"  \n",
    "    sist_latex += r\"\\end{matrix}\\right.$\"\n",
    "    return(sist_latex)\n",
    "\n",
    "def sistema_a_google(sist) :\n",
    "    \"\"\"\n",
    "    Convierte un sistema Sympy a código LaTeX\n",
    "    \"\"\"\n",
    "    sist_latex = r\"https://latex.codecogs.com/gif.latex?\\left\\{ \\begin{matrix}\"\n",
    "    for e in sist:\n",
    "        sist_latex += latex(e)+r\" \\\\ \"  \n",
    "    sist_latex += r\"\\end{matrix}\\right.\"\n",
    "    return(sist_latex)"
   ]
  },
  {
   "cell_type": "code",
   "execution_count": 4,
   "metadata": {},
   "outputs": [
    {
     "name": "stdout",
     "output_type": "stream",
     "text": [
      "['https://latex.codecogs.com/gif.latex?\\\\left\\\\{ \\\\begin{matrix}x + y = 2 \\\\\\\\ 2 x - y = 1 \\\\\\\\ \\\\end{matrix}\\\\right.', {x: 1, y: 1}]\n",
      "['https://latex.codecogs.com/gif.latex?\\\\left\\\\{ \\\\begin{matrix}3 x + y = 7 \\\\\\\\ 5 x + 2 y = 11 \\\\\\\\ \\\\end{matrix}\\\\right.', {x: 3, y: -2}]\n",
      "['https://latex.codecogs.com/gif.latex?\\\\left\\\\{ \\\\begin{matrix}x - y = 0 \\\\\\\\ 3 x - y = 4 \\\\\\\\ \\\\end{matrix}\\\\right.', {x: 2, y: 2}]\n",
      "['https://latex.codecogs.com/gif.latex?\\\\left\\\\{ \\\\begin{matrix}6 x + 3 y = 3 \\\\\\\\ 5 x - 2 y = 16 \\\\\\\\ \\\\end{matrix}\\\\right.', {x: 2, y: -3}]\n",
      "['https://latex.codecogs.com/gif.latex?\\\\left\\\\{ \\\\begin{matrix}3 - 3 x = 10 x - 5 y - 5 \\\\\\\\ \\\\frac{x}{3} - \\\\frac{y}{3} = \\\\frac{x}{2} - \\\\frac{1}{2} \\\\\\\\ \\\\end{matrix}\\\\right.', {x: 1, y: 1}]\n",
      "https://latex.codecogs.com/gif.latex?\\left\\{ \\begin{matrix}x + y = 2 \\\\ 2 x - y = 1 \\\\ \\end{matrix}\\right.\n",
      "https://latex.codecogs.com/gif.latex?\\left\\{ \\begin{matrix}3 x + y = 7 \\\\ 5 x + 2 y = 11 \\\\ \\end{matrix}\\right.\n",
      "https://latex.codecogs.com/gif.latex?\\left\\{ \\begin{matrix}x - y = 0 \\\\ 3 x - y = 4 \\\\ \\end{matrix}\\right.\n",
      "https://latex.codecogs.com/gif.latex?\\left\\{ \\begin{matrix}6 x + 3 y = 3 \\\\ 5 x - 2 y = 16 \\\\ \\end{matrix}\\right.\n",
      "https://latex.codecogs.com/gif.latex?\\left\\{ \\begin{matrix}3 - 3 x = 10 x - 5 y - 5 \\\\ \\frac{x}{3} - \\frac{y}{3} = \\frac{x}{2} - \\frac{1}{2} \\\\ \\end{matrix}\\right.\n"
     ]
    },
    {
     "data": {
      "text/plain": [
       "[None, None, None, None, None]"
      ]
     },
     "execution_count": 4,
     "metadata": {},
     "output_type": "execute_result"
    }
   ],
   "source": [
    "ejercicios = [[Eq(x+y,2),Eq(2*x-y,1)],\n",
    "              [Eq(3*x+y,7),Eq(5*x+2*y,11)],\n",
    "              [Eq(x-y,0),Eq(3*x-y,4)],\n",
    "              [Eq(6*x+3*y,3),Eq(5*x-2*y,16)],\n",
    "              [Eq(3*(1-x),5*(2*x-y)-5),Eq((x-y)/3,(x-1)/2)],\n",
    "             ]\n",
    "\n",
    "[print([sistema_a_google(ej),solve(ej)]) for ej in ejercicios]\n",
    "[print(sistema_a_google(ej)) for ej in ejercicios]"
   ]
  },
  {
   "cell_type": "code",
   "execution_count": 6,
   "metadata": {},
   "outputs": [
    {
     "name": "stdout",
     "output_type": "stream",
     "text": [
      "\"Calcula dos números de forma que su diferencia sea 5 y\n",
      "la suma del primero con el doble del segundo sea 35.\n",
      "    \n",
      "https://latex.codecogs.com/gif.latex?\\left\\{ \\begin{matrix}x - y = 5 \\\\ x + 2 y = 35 \\\\ \\end{matrix}\\right.\n",
      "{x: 15, y: 10}\n",
      "Por un bolígrafo y un rotulador hemos pagado 1,3 euros y \n",
      "    por tres bolígrafos y dos rotuladores hemos pagado 3,1 euros. \n",
      "    ¿Cuánto cuesta un bolígrafo? ¿Y un rotulador?\n",
      "https://latex.codecogs.com/gif.latex?\\left\\{ \\begin{matrix}x + y = 3 \\\\ 3 x + 2 y = 7 \\\\ \\end{matrix}\\right.\n",
      "{x: 1, y: 2}\n"
     ]
    }
   ],
   "source": [
    "problemas=[[r\"\"\"\"Calcula dos números de forma que su diferencia sea 5 y\n",
    "la suma del primero con el doble del segundo sea 35.\n",
    "    \"\"\",[Eq(x-y,5),Eq(x+2*y,35)]],[r\"\"\"Por un bolígrafo y un rotulador hemos pagado 1,3 euros y \n",
    "    por tres bolígrafos y dos rotuladores hemos pagado 3,1 euros. \n",
    "    ¿Cuánto cuesta un bolígrafo? ¿Y un rotulador?\"\"\",[Eq(x+y,3),Eq(3*x+2*y,7)]]]\n",
    "\n",
    "for ej in problemas :\n",
    "    print(ej[0])\n",
    "    print(sistema_a_google(ej[1]))\n",
    "    print(solve(ej[1]))"
   ]
  },
  {
   "cell_type": "code",
   "execution_count": 16,
   "metadata": {},
   "outputs": [
    {
     "data": {
      "image/png": "[encoded data removed]",
      "text/latex": [
       "$\\displaystyle - 3 x - 2 y - z + 16$"
      ],
      "text/plain": [
       "-3⋅x - 2⋅y - z + 16"
      ]
     },
     "execution_count": 16,
     "metadata": {},
     "output_type": "execute_result"
    }
   ],
   "source": [
    "A = Matrix(3,3,[x-5,y-1,z+2,1,-3,4,0,1,2])\n",
    "A = Matrix(3,3,[x-1,y-2,z+3,2,0,-1,1,1,1])\n",
    "A = Matrix(3,3,[x-1,y,z-5,-3,1,-1,1,-1,0])\n",
    "A = Matrix(3,3,[-2-1,1,0-5,-3,1,-1,1,-1,0])\n",
    "A = Matrix(3,3,[x-2,y,z-3,-3,2,1,2,0,-1])\n",
    "A = Matrix(3,3,[1-2,5-3,a-1,1,-2,-1,2,0,-1])\n",
    "A = Matrix(3,3,[x+3,y-1,z,2,-1,3,5,0,5])\n",
    "A = Matrix(3,3,[x-1,y-3,z-7,-1,0,3,-2,1,4])\n",
    "A.det()\n",
    "\n",
    "\n"
   ]
  }
 ],
 "metadata": {
  "kernelspec": {
   "display_name": "Python 3",
   "language": "python",
   "name": "python3"
  },
  "language_info": {
   "codemirror_mode": {
    "name": "ipython",
    "version": 3
   },
   "file_extension": ".py",
   "mimetype": "text/x-python",
   "name": "python",
   "nbconvert_exporter": "python",
   "pygments_lexer": "ipython3",
   "version": "3.6.8"
  }
 },
 "nbformat": 4,
 "nbformat_minor": 2
}
