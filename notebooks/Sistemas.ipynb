{
 "cells": [
  {
   "cell_type": "code",
   "execution_count": 5,
   "metadata": {},
   "outputs": [
    {
     "name": "stdout",
     "output_type": "stream",
     "text": [
      "IPython console for SymPy 1.4 (Python 3.6.8-64-bit) (ground types: gmpy)\n",
      "\n",
      "These commands were executed:\n",
      ">>> from __future__ import division\n",
      ">>> from sympy import *\n",
      ">>> x, y, z, t = symbols('x y z t')\n",
      ">>> k, m, n = symbols('k m n', integer=True)\n",
      ">>> f, g, h = symbols('f g h', cls=Function)\n",
      ">>> init_printing()\n",
      "\n",
      "Documentation can be found at https://docs.sympy.org/1.4/\n",
      "\n"
     ]
    }
   ],
   "source": [
    "from sympy import init_session\n",
    "init_session()\n",
    "\n",
    "a, b, c, d = symbols('a b c d', real = True)\n",
    "\n",
    "def sistema_a_latex(sist) :\n",
    "    \"\"\"\n",
    "    Convierte un sistema Sympy a código LaTeX\n",
    "    \"\"\"\n",
    "    sist_latex = r\"$\\left\\{ \\begin{matrix}\"\n",
    "    for e in sist:\n",
    "        sist_latex += latex(e)+r\" \\\\ \"  \n",
    "    sist_latex += r\"\\end{matrix}\\right.$\"\n",
    "    return(sist_latex)\n",
    "\n",
    "def sistema_a_google(sist) :\n",
    "    \"\"\"\n",
    "    Convierte un sistema Sympy a código LaTeX\n",
    "    \"\"\"\n",
    "    sist_latex = r\"https://latex.codecogs.com/gif.latex?\\left\\{ \\begin{matrix}\"\n",
    "    for e in sist:\n",
    "        sist_latex += latex(e)+r\" \\\\ \"  \n",
    "    sist_latex += r\"\\end{matrix}\\right.\"\n",
    "    return(sist_latex)"
   ]
  },
  {
   "cell_type": "code",
   "execution_count": 7,
   "metadata": {},
   "outputs": [
    {
     "name": "stdout",
     "output_type": "stream",
     "text": [
      "https://latex.codecogs.com/gif.latex?\\left\\{ \\begin{matrix}x + y = 5 \\\\ x - y = 1 \\\\ \\end{matrix}\\right.\n"
     ]
    }
   ],
   "source": [
    "ej1 = [Eq(x+y,5),Eq(x-y,1)]\n",
    "print(sistema_a_google(ej1))"
   ]
  }
 ],
 "metadata": {
  "kernelspec": {
   "display_name": "Python 3",
   "language": "python",
   "name": "python3"
  },
  "language_info": {
   "codemirror_mode": {
    "name": "ipython",
    "version": 3
   },
   "file_extension": ".py",
   "mimetype": "text/x-python",
   "name": "python",
   "nbconvert_exporter": "python",
   "pygments_lexer": "ipython3",
   "version": "3.6.8"
  }
 },
 "nbformat": 4,
 "nbformat_minor": 2
}
